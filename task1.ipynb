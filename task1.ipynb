{
  "nbformat": 4,
  "nbformat_minor": 0,
  "metadata": {
    "colab": {
      "provenance": []
    },
    "kernelspec": {
      "name": "python3",
      "display_name": "Python 3"
    },
    "language_info": {
      "name": "python"
    }
  },
  "cells": [
    {
      "cell_type": "markdown",
      "source": [
        "Simple and multiple linear regression using Gradient\n",
        "Descent without regularization\n"
      ],
      "metadata": {
        "id": "MtSI4w8YBrAR"
      }
    },
    {
      "cell_type": "markdown",
      "source": [
        "importing libraries\n"
      ],
      "metadata": {
        "id": "hjcjqm5ZCLzV"
      }
    },
    {
      "cell_type": "code",
      "execution_count": null,
      "metadata": {
        "id": "9DoPp32OBoio"
      },
      "outputs": [],
      "source": [
        "import pandas as pd\n",
        "import numpy as np\n",
        "import matplotlib.pyplot as plt\n"
      ]
    },
    {
      "cell_type": "code",
      "source": [
        "#importing the dataset\n",
        "url = \"http://bit.ly/w-data\"\n",
        "data = pd.read_csv(url)\n",
        "print(\"Data imported successfully\")\n",
        "X = data.iloc[:,0].values\n",
        "y = data.iloc[:, 1].values\n",
        "print(X,y)\n",
        "plt.scatter(X,y)"
      ],
      "metadata": {
        "colab": {
          "base_uri": "https://localhost:8080/",
          "height": 352
        },
        "id": "79KG4VtUCIhL",
        "outputId": "35dee325-b64e-4b37-b1c8-86fcf529778e"
      },
      "execution_count": null,
      "outputs": [
        {
          "output_type": "stream",
          "name": "stdout",
          "text": [
            "Data imported successfully\n",
            "[2.5 5.1 3.2 8.5 3.5 1.5 9.2 5.5 8.3 2.7 7.7 5.9 4.5 3.3 1.1 8.9 2.5 1.9\n",
            " 6.1 7.4 2.7 4.8 3.8 6.9 7.8] [21 47 27 75 30 20 88 60 81 25 85 62 41 42 17 95 30 24 67 69 30 54 35 76\n",
            " 86]\n"
          ]
        },
        {
          "output_type": "execute_result",
          "data": {
            "text/plain": [
              "<matplotlib.collections.PathCollection at 0x7f7a2f960e90>"
            ]
          },
          "metadata": {},
          "execution_count": 3
        },
        {
          "output_type": "display_data",
          "data": {
            "text/plain": [
              "<Figure size 432x288 with 1 Axes>"
            ],
            "image/png": "[encoded data removed]"
          },
          "metadata": {
            "needs_background": "light"
          }
        }
      ]
    },
    {
      "cell_type": "code",
      "source": [
        "m=0\n",
        "c=0\n",
        "l=0.0001\n",
        "epoch=1000\n",
        "n=len(X)\n",
        "for i in range(epoch):\n",
        "  Y_pred=m*X+c\n",
        "  d_m=(-2/n)*sum(X*(y-Y_pred))\n",
        "  d_c=(-2/n)*sum((y-Y_pred))\n",
        "  m=m-l*d_m\n",
        "  c=c-l*d_c\n",
        "print(m,c)"
      ],
      "metadata": {
        "id": "8MHH8u8Npy3h",
        "colab": {
          "base_uri": "https://localhost:8080/"
        },
        "outputId": "592eb547-8f14-41bc-fb95-6848c32ffbf9"
      },
      "execution_count": null,
      "outputs": [
        {
          "output_type": "stream",
          "name": "stdout",
          "text": [
            "9.896964110671043 1.6314708810783134\n"
          ]
        }
      ]
    },
    {
      "cell_type": "code",
      "source": [
        "#making predications\n",
        "Y_pred=m*X+c\n",
        "plt.scatter(X,y)\n",
        "plt.plot(X,Y_pred)\n",
        "plt.show()"
      ],
      "metadata": {
        "colab": {
          "base_uri": "https://localhost:8080/",
          "height": 265
        },
        "id": "s0ww3mlNBkB0",
        "outputId": "44a9a864-b4c5-4e79-829b-f08e5fe82bff"
      },
      "execution_count": null,
      "outputs": [
        {
          "output_type": "display_data",
          "data": {
            "text/plain": [
              "<Figure size 432x288 with 1 Axes>"
            ],
            "image/png": "[encoded data removed]"
          },
          "metadata": {
            "needs_background": "light"
          }
        }
      ]
    }
  ]
}